{
 "metadata": {
  "name": "step_1"
 },
 "nbformat": 3,
 "nbformat_minor": 0,
 "worksheets": [
  {
   "cells": [
    {
     "cell_type": "code",
     "collapsed": false,
     "input": [
      "cd ../step1/"
     ],
     "language": "python",
     "metadata": {},
     "outputs": [
      {
       "output_type": "stream",
       "stream": "stdout",
       "text": [
        "/Users/vasyabigi/projects/sna/research/step1\n"
       ]
      }
     ],
     "prompt_number": 1
    },
    {
     "cell_type": "markdown",
     "metadata": {},
     "source": [
      "## Step 1 research:\n",
      "Generate python data from DVG program results:"
     ]
    },
    {
     "cell_type": "code",
     "collapsed": false,
     "input": [
      "%run data.py\n",
      "%whos"
     ],
     "language": "python",
     "metadata": {},
     "outputs": [
      {
       "output_type": "stream",
       "stream": "stdout",
       "text": [
        "Variable               Type        Data/Info\n",
        "--------------------------------------------\n",
        "Column                 classobj    __main__.Column\n",
        "line                   str                90\t     5.14689\t  <...>        0\t        0\t  \r",
        "\\n\n",
        "lines                  list        n=212\n",
        "result_data            ndarray     19x181: 3439 elems, type `|S11`, 37829 bytes\n",
        "result_data_reversed   ndarray     19x181: 3439 elems, type `|S11`, 37829 bytes\n",
        "result_data_shuffled   ndarray     19x181: 3439 elems, type `|S12`, 41268 bytes\n"
       ]
      }
     ],
     "prompt_number": 2
    },
    {
     "cell_type": "markdown",
     "metadata": {},
     "source": [
      "Got 3 necessary vars:\n",
      "\n",
      "* result_data\n",
      "* result_data_reversed\n",
      "* result_data_shuffled\n",
      "\n",
      "Graphs:"
     ]
    },
    {
     "cell_type": "code",
     "collapsed": false,
     "input": [
      "import matplotlib.pyplot as plt\n",
      "\n",
      "plt.figure(num=None, figsize=(10, 6), dpi=100, facecolor='w', edgecolor='k')\n",
      "\n",
      "key_x = Column.ANGLE_DEGREE\n",
      "key_y = Column.CLUST_SIZE\n",
      "\n",
      "data_initial_x = result_data[key_x]\n",
      "data_initial_y = result_data[key_y]\n",
      "plt.plot(data_initial_x, data_initial_y, label=\"initial data\")\n",
      "\n",
      "data_reversed_x = result_data_reversed[key_x]\n",
      "data_reversed_y = result_data_reversed[key_y]\n",
      "plt.plot(data_reversed_x, data_reversed_y, label=\"reversed data\")\n",
      "\n",
      "data_shuffled_x = result_data_shuffled[key_x]\n",
      "data_shuffled_y = result_data_shuffled[key_y]\n",
      "plt.plot(data_shuffled_x, data_shuffled_y, label=\"shuffled data\")\n",
      "\n",
      "plt.grid(True)\n",
      "#plt.xlim(-90, 90)\n",
      "#xticks([-90, -45, 0, 45, 90], [r'$-\\pi/2$', r'$-\\pi/4$', r'$0$', r'$+\\pi/4$', r'$+\\pi/2$'])\n",
      "plt.legend(loc='best')"
     ],
     "language": "python",
     "metadata": {},
     "outputs": [
      {
       "output_type": "pyout",
       "prompt_number": 3,
       "text": [
        "<matplotlib.legend.Legend at 0x10bd2f790>"
       ]
      },
      {
       "output_type": "display_data",
       "png": "[encoded data removed]"
      }
     ],
     "prompt_number": 3
    },
    {
     "cell_type": "code",
     "collapsed": false,
     "input": [],
     "language": "python",
     "metadata": {},
     "outputs": [],
     "prompt_number": 3
    },
    {
     "cell_type": "code",
     "collapsed": true,
     "input": [],
     "language": "python",
     "metadata": {},
     "outputs": [],
     "prompt_number": 3
    }
   ],
   "metadata": {}
  }
 ]
}