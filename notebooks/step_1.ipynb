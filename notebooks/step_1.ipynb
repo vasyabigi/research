{
 "metadata": {
  "name": "step_1"
 },
 "nbformat": 3,
 "nbformat_minor": 0,
 "worksheets": [
  {
   "cells": [
    {
     "cell_type": "code",
     "collapsed": false,
     "input": [
      "cd ../step1/"
     ],
     "language": "python",
     "metadata": {},
     "outputs": []
    },
    {
     "cell_type": "markdown",
     "metadata": {},
     "source": [
      "## Step 1 research:\n",
      "Generate python data from DVG program results:"
     ]
    },
    {
     "cell_type": "code",
     "collapsed": false,
     "input": [
      "%run data.py"
     ],
     "language": "python",
     "metadata": {},
     "outputs": []
    },
    {
     "cell_type": "markdown",
     "metadata": {},
     "source": [
      "Got 3 necessary vars for 10 000 points array:\n",
      "\n",
      "* result_data - based on random array\n",
      "* result_data_reversed - based on reverserd same array\n",
      "* result_data_shuffled - based on shuffled same array\n",
      "\n",
      "And same vars for 50 000 points array:\n",
      "\n",
      "* big_result_data - based on random array\n",
      "* big_result_data_reversed - based on reverserd same array\n",
      "* big_result_data_shuffled - based on shuffled same array\n",
      "\n",
      "Graphs:\n",
      "1) For 10 000 points:"
     ]
    },
    {
     "cell_type": "code",
     "collapsed": false,
     "input": [
      "import matplotlib.pyplot as plt\n",
      "\n",
      "plt.figure(num=None, figsize=(10, 6), dpi=100, facecolor='w', edgecolor='k')\n",
      "\n",
      "key_x = Column.ANGLE\n",
      "key_y = Column.CLUST_QTY\n",
      "\n",
      "data_initial_x = result_data[key_x]\n",
      "data_initial_y = result_data[key_y]\n",
      "plt.plot(data_initial_x, data_initial_y, label=\"initial data\")\n",
      "\n",
      "data_reversed_x = result_data_reversed[key_x]\n",
      "data_reversed_y = result_data_reversed[key_y]\n",
      "plt.plot(data_reversed_x, data_reversed_y, label=\"reversed data\")\n",
      "\n",
      "data_shuffled_x = result_data_shuffled[key_x]\n",
      "data_shuffled_y = result_data_shuffled[key_y]\n",
      "plt.plot(data_shuffled_x, data_shuffled_y, label=\"shuffled data\")\n",
      "\n",
      "plt.grid(True)\n",
      "#plt.yscale('log')\n",
      "plt.legend(loc='best')"
     ],
     "language": "python",
     "metadata": {},
     "outputs": []
    },
    {
     "cell_type": "markdown",
     "metadata": {},
     "source": [
      "2) For 50 000:"
     ]
    },
    {
     "cell_type": "code",
     "collapsed": false,
     "input": [
      "import matplotlib.pyplot as plt\n",
      "\n",
      "plt.figure(num=None, figsize=(10, 6), dpi=100, facecolor='w', edgecolor='k')\n",
      "\n",
      "key_x = Column.ANGLE\n",
      "key_y = Column.CLUST_QTY\n",
      "\n",
      "big_data_initial_x = big_result_data[key_x]\n",
      "big_data_initial_y = big_result_data[key_y]\n",
      "plt.plot(big_data_initial_x, big_data_initial_y, label=\"initial data\")\n",
      "\n",
      "big_data_reversed_x = big_result_data_reversed[key_x]\n",
      "big_data_reversed_y = big_result_data_reversed[key_y]\n",
      "plt.plot(big_data_reversed_x, big_data_reversed_y, label=\"reversed data\")\n",
      "\n",
      "big_data_shuffled_x = big_result_data_shuffled[key_x]\n",
      "big_data_shuffled_y = big_result_data_shuffled[key_y]\n",
      "plt.plot(big_data_shuffled_x, big_data_shuffled_y, label=\"shuffled data\")\n",
      "\n",
      "plt.grid(True)\n",
      "#plt.yscale('log')\n",
      "plt.legend(loc='best')"
     ],
     "language": "python",
     "metadata": {},
     "outputs": []
    },
    {
     "cell_type": "code",
     "collapsed": false,
     "input": [],
     "language": "python",
     "metadata": {},
     "outputs": []
    }
   ],
   "metadata": {}
  }
 ]
}